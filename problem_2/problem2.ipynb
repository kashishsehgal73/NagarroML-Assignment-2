{
 "cells": [
  {
   "cell_type": "code",
   "execution_count": 50,
   "metadata": {},
   "outputs": [],
   "source": [
    "import pandas as pd\n",
    "import numpy as np\n",
    "import matplotlib.pyplot as plt\n",
    "from sklearn import preprocessing"
   ]
  },
  {
   "cell_type": "code",
   "execution_count": 51,
   "metadata": {},
   "outputs": [],
   "source": [
    "from sklearn.linear_model import LinearRegression, Ridge, SGDRegressor\n",
    "from sklearn.ensemble import RandomForestRegressor\n",
    "from sklearn.neighbors import KNeighborsRegressor\n",
    "from sklearn.model_selection import train_test_split\n",
    "from sklearn import metrics\n",
    "from sklearn import svm"
   ]
  },
  {
   "cell_type": "code",
   "execution_count": 52,
   "metadata": {},
   "outputs": [
    {
     "data": {
      "text/html": [
       "<div>\n",
       "<style scoped>\n",
       "    .dataframe tbody tr th:only-of-type {\n",
       "        vertical-align: middle;\n",
       "    }\n",
       "\n",
       "    .dataframe tbody tr th {\n",
       "        vertical-align: top;\n",
       "    }\n",
       "\n",
       "    .dataframe thead th {\n",
       "        text-align: right;\n",
       "    }\n",
       "</style>\n",
       "<table border=\"1\" class=\"dataframe\">\n",
       "  <thead>\n",
       "    <tr style=\"text-align: right;\">\n",
       "      <th></th>\n",
       "      <th>srno</th>\n",
       "      <th>mobmake</th>\n",
       "      <th>hubid</th>\n",
       "      <th>hubpincode</th>\n",
       "      <th>pickuppartnerid</th>\n",
       "      <th>deliverypartnerid</th>\n",
       "      <th>insuranceCompanyId</th>\n",
       "      <th>custpincodecategory</th>\n",
       "      <th>claimtype</th>\n",
       "      <th>custpincode</th>\n",
       "      <th>memcreateddate</th>\n",
       "      <th>mobilepurchasedate</th>\n",
       "      <th>claimintdate</th>\n",
       "      <th>servicecntrid</th>\n",
       "      <th>pickupStartdate</th>\n",
       "      <th>tat_in_days</th>\n",
       "    </tr>\n",
       "  </thead>\n",
       "  <tbody>\n",
       "    <tr>\n",
       "      <th>0</th>\n",
       "      <td>2851218</td>\n",
       "      <td>AN</td>\n",
       "      <td>7</td>\n",
       "      <td>500004</td>\n",
       "      <td>233</td>\n",
       "      <td>233</td>\n",
       "      <td>131</td>\n",
       "      <td>A</td>\n",
       "      <td>ADLD</td>\n",
       "      <td>500001</td>\n",
       "      <td>2017-04-27</td>\n",
       "      <td>2016-12-02</td>\n",
       "      <td>2018-02-08</td>\n",
       "      <td>4403</td>\n",
       "      <td>2018-02-13</td>\n",
       "      <td>5</td>\n",
       "    </tr>\n",
       "    <tr>\n",
       "      <th>1</th>\n",
       "      <td>2838330</td>\n",
       "      <td>AJ</td>\n",
       "      <td>10</td>\n",
       "      <td>226010</td>\n",
       "      <td>233</td>\n",
       "      <td>233</td>\n",
       "      <td>131</td>\n",
       "      <td>A</td>\n",
       "      <td>ADLD</td>\n",
       "      <td>226022</td>\n",
       "      <td>2017-03-06</td>\n",
       "      <td>2017-03-05</td>\n",
       "      <td>2018-02-04</td>\n",
       "      <td>4444</td>\n",
       "      <td>2018-02-08</td>\n",
       "      <td>12</td>\n",
       "    </tr>\n",
       "    <tr>\n",
       "      <th>2</th>\n",
       "      <td>2835781</td>\n",
       "      <td>AJ</td>\n",
       "      <td>2</td>\n",
       "      <td>110018</td>\n",
       "      <td>233</td>\n",
       "      <td>233</td>\n",
       "      <td>228</td>\n",
       "      <td>A</td>\n",
       "      <td>ADLD</td>\n",
       "      <td>110018</td>\n",
       "      <td>2018-02-01</td>\n",
       "      <td>2018-01-27</td>\n",
       "      <td>2018-02-03</td>\n",
       "      <td>4388</td>\n",
       "      <td>2018-02-12</td>\n",
       "      <td>9</td>\n",
       "    </tr>\n",
       "    <tr>\n",
       "      <th>3</th>\n",
       "      <td>2838589</td>\n",
       "      <td>AM</td>\n",
       "      <td>2</td>\n",
       "      <td>110018</td>\n",
       "      <td>233</td>\n",
       "      <td>233</td>\n",
       "      <td>228</td>\n",
       "      <td>B</td>\n",
       "      <td>ADLD</td>\n",
       "      <td>124001</td>\n",
       "      <td>2018-01-17</td>\n",
       "      <td>2018-01-31</td>\n",
       "      <td>2018-02-04</td>\n",
       "      <td>4092</td>\n",
       "      <td>2018-02-14</td>\n",
       "      <td>9</td>\n",
       "    </tr>\n",
       "    <tr>\n",
       "      <th>4</th>\n",
       "      <td>2855214</td>\n",
       "      <td>AN</td>\n",
       "      <td>21</td>\n",
       "      <td>110015</td>\n",
       "      <td>233</td>\n",
       "      <td>233</td>\n",
       "      <td>131</td>\n",
       "      <td>A</td>\n",
       "      <td>ADLD</td>\n",
       "      <td>201301</td>\n",
       "      <td>2018-01-23</td>\n",
       "      <td>2018-01-20</td>\n",
       "      <td>2018-02-09</td>\n",
       "      <td>4580</td>\n",
       "      <td>2018-02-14</td>\n",
       "      <td>8</td>\n",
       "    </tr>\n",
       "  </tbody>\n",
       "</table>\n",
       "</div>"
      ],
      "text/plain": [
       "      srno mobmake  hubid  hubpincode  pickuppartnerid  deliverypartnerid  \\\n",
       "0  2851218      AN      7      500004              233                233   \n",
       "1  2838330      AJ     10      226010              233                233   \n",
       "2  2835781      AJ      2      110018              233                233   \n",
       "3  2838589      AM      2      110018              233                233   \n",
       "4  2855214      AN     21      110015              233                233   \n",
       "\n",
       "   insuranceCompanyId custpincodecategory claimtype  custpincode  \\\n",
       "0                 131                   A      ADLD       500001   \n",
       "1                 131                   A      ADLD       226022   \n",
       "2                 228                   A      ADLD       110018   \n",
       "3                 228                   B      ADLD       124001   \n",
       "4                 131                   A      ADLD       201301   \n",
       "\n",
       "  memcreateddate mobilepurchasedate claimintdate  servicecntrid  \\\n",
       "0     2017-04-27         2016-12-02   2018-02-08           4403   \n",
       "1     2017-03-06         2017-03-05   2018-02-04           4444   \n",
       "2     2018-02-01         2018-01-27   2018-02-03           4388   \n",
       "3     2018-01-17         2018-01-31   2018-02-04           4092   \n",
       "4     2018-01-23         2018-01-20   2018-02-09           4580   \n",
       "\n",
       "  pickupStartdate  tat_in_days  \n",
       "0      2018-02-13            5  \n",
       "1      2018-02-08           12  \n",
       "2      2018-02-12            9  \n",
       "3      2018-02-14            9  \n",
       "4      2018-02-14            8  "
      ]
     },
     "execution_count": 52,
     "metadata": {},
     "output_type": "execute_result"
    }
   ],
   "source": [
    "data  = pd.read_csv('problem_2_train.csv',parse_dates=['memcreateddate', 'mobilepurchasedate','claimintdate','pickupStartdate'])\n",
    "data.head()"
   ]
  },
  {
   "cell_type": "markdown",
   "metadata": {},
   "source": [
    "### Making new features as diffrerence of dates"
   ]
  },
  {
   "cell_type": "code",
   "execution_count": 53,
   "metadata": {},
   "outputs": [],
   "source": [
    "data['mem-purchase'] = (data.mobilepurchasedate - data.memcreateddate).dt.days\n",
    "data['pickup-claim'] = (data.pickupStartdate - data.claimintdate).dt.days"
   ]
  },
  {
   "cell_type": "markdown",
   "metadata": {},
   "source": [
    "### Making maps for categorical data....\n",
    "### Alternative way for Label encoding"
   ]
  },
  {
   "cell_type": "code",
   "execution_count": 54,
   "metadata": {},
   "outputs": [],
   "source": [
    "claim = list(data.claimtype.unique())\n",
    "mob = list(data.mobmake.unique())\n",
    "pin_cat  = list(data.custpincodecategory.unique())\n",
    "\n",
    "claim_map = {k:v for v,k in enumerate(claim)}\n",
    "mob_map = {k:v for v,k in enumerate(mob)}\n",
    "pin_map = {k:v for v,k in enumerate(pin_cat)}"
   ]
  },
  {
   "cell_type": "code",
   "execution_count": 55,
   "metadata": {},
   "outputs": [
    {
     "name": "stdout",
     "output_type": "stream",
     "text": [
      "{'A': 0, 'B': 1, 'C': 2, '0': 3, 'D': 4}\n"
     ]
    },
    {
     "data": {
      "text/html": [
       "<div>\n",
       "<style scoped>\n",
       "    .dataframe tbody tr th:only-of-type {\n",
       "        vertical-align: middle;\n",
       "    }\n",
       "\n",
       "    .dataframe tbody tr th {\n",
       "        vertical-align: top;\n",
       "    }\n",
       "\n",
       "    .dataframe thead th {\n",
       "        text-align: right;\n",
       "    }\n",
       "</style>\n",
       "<table border=\"1\" class=\"dataframe\">\n",
       "  <thead>\n",
       "    <tr style=\"text-align: right;\">\n",
       "      <th></th>\n",
       "      <th>srno</th>\n",
       "      <th>mobmake</th>\n",
       "      <th>hubid</th>\n",
       "      <th>hubpincode</th>\n",
       "      <th>pickuppartnerid</th>\n",
       "      <th>deliverypartnerid</th>\n",
       "      <th>insuranceCompanyId</th>\n",
       "      <th>custpincodecategory</th>\n",
       "      <th>claimtype</th>\n",
       "      <th>custpincode</th>\n",
       "      <th>memcreateddate</th>\n",
       "      <th>mobilepurchasedate</th>\n",
       "      <th>claimintdate</th>\n",
       "      <th>servicecntrid</th>\n",
       "      <th>pickupStartdate</th>\n",
       "      <th>tat_in_days</th>\n",
       "      <th>mem-purchase</th>\n",
       "      <th>pickup-claim</th>\n",
       "    </tr>\n",
       "  </thead>\n",
       "  <tbody>\n",
       "    <tr>\n",
       "      <th>0</th>\n",
       "      <td>2851218</td>\n",
       "      <td>0</td>\n",
       "      <td>7</td>\n",
       "      <td>500004</td>\n",
       "      <td>233</td>\n",
       "      <td>233</td>\n",
       "      <td>131</td>\n",
       "      <td>0</td>\n",
       "      <td>0</td>\n",
       "      <td>500001</td>\n",
       "      <td>2017-04-27</td>\n",
       "      <td>2016-12-02</td>\n",
       "      <td>2018-02-08</td>\n",
       "      <td>4403</td>\n",
       "      <td>2018-02-13</td>\n",
       "      <td>5</td>\n",
       "      <td>-146</td>\n",
       "      <td>5</td>\n",
       "    </tr>\n",
       "    <tr>\n",
       "      <th>1</th>\n",
       "      <td>2838330</td>\n",
       "      <td>1</td>\n",
       "      <td>10</td>\n",
       "      <td>226010</td>\n",
       "      <td>233</td>\n",
       "      <td>233</td>\n",
       "      <td>131</td>\n",
       "      <td>0</td>\n",
       "      <td>0</td>\n",
       "      <td>226022</td>\n",
       "      <td>2017-03-06</td>\n",
       "      <td>2017-03-05</td>\n",
       "      <td>2018-02-04</td>\n",
       "      <td>4444</td>\n",
       "      <td>2018-02-08</td>\n",
       "      <td>12</td>\n",
       "      <td>-1</td>\n",
       "      <td>4</td>\n",
       "    </tr>\n",
       "    <tr>\n",
       "      <th>2</th>\n",
       "      <td>2835781</td>\n",
       "      <td>1</td>\n",
       "      <td>2</td>\n",
       "      <td>110018</td>\n",
       "      <td>233</td>\n",
       "      <td>233</td>\n",
       "      <td>228</td>\n",
       "      <td>0</td>\n",
       "      <td>0</td>\n",
       "      <td>110018</td>\n",
       "      <td>2018-02-01</td>\n",
       "      <td>2018-01-27</td>\n",
       "      <td>2018-02-03</td>\n",
       "      <td>4388</td>\n",
       "      <td>2018-02-12</td>\n",
       "      <td>9</td>\n",
       "      <td>-5</td>\n",
       "      <td>9</td>\n",
       "    </tr>\n",
       "    <tr>\n",
       "      <th>3</th>\n",
       "      <td>2838589</td>\n",
       "      <td>2</td>\n",
       "      <td>2</td>\n",
       "      <td>110018</td>\n",
       "      <td>233</td>\n",
       "      <td>233</td>\n",
       "      <td>228</td>\n",
       "      <td>1</td>\n",
       "      <td>0</td>\n",
       "      <td>124001</td>\n",
       "      <td>2018-01-17</td>\n",
       "      <td>2018-01-31</td>\n",
       "      <td>2018-02-04</td>\n",
       "      <td>4092</td>\n",
       "      <td>2018-02-14</td>\n",
       "      <td>9</td>\n",
       "      <td>14</td>\n",
       "      <td>10</td>\n",
       "    </tr>\n",
       "    <tr>\n",
       "      <th>4</th>\n",
       "      <td>2855214</td>\n",
       "      <td>0</td>\n",
       "      <td>21</td>\n",
       "      <td>110015</td>\n",
       "      <td>233</td>\n",
       "      <td>233</td>\n",
       "      <td>131</td>\n",
       "      <td>0</td>\n",
       "      <td>0</td>\n",
       "      <td>201301</td>\n",
       "      <td>2018-01-23</td>\n",
       "      <td>2018-01-20</td>\n",
       "      <td>2018-02-09</td>\n",
       "      <td>4580</td>\n",
       "      <td>2018-02-14</td>\n",
       "      <td>8</td>\n",
       "      <td>-3</td>\n",
       "      <td>5</td>\n",
       "    </tr>\n",
       "  </tbody>\n",
       "</table>\n",
       "</div>"
      ],
      "text/plain": [
       "      srno  mobmake  hubid  hubpincode  pickuppartnerid  deliverypartnerid  \\\n",
       "0  2851218        0      7      500004              233                233   \n",
       "1  2838330        1     10      226010              233                233   \n",
       "2  2835781        1      2      110018              233                233   \n",
       "3  2838589        2      2      110018              233                233   \n",
       "4  2855214        0     21      110015              233                233   \n",
       "\n",
       "   insuranceCompanyId  custpincodecategory  claimtype  custpincode  \\\n",
       "0                 131                    0          0       500001   \n",
       "1                 131                    0          0       226022   \n",
       "2                 228                    0          0       110018   \n",
       "3                 228                    1          0       124001   \n",
       "4                 131                    0          0       201301   \n",
       "\n",
       "  memcreateddate mobilepurchasedate claimintdate  servicecntrid  \\\n",
       "0     2017-04-27         2016-12-02   2018-02-08           4403   \n",
       "1     2017-03-06         2017-03-05   2018-02-04           4444   \n",
       "2     2018-02-01         2018-01-27   2018-02-03           4388   \n",
       "3     2018-01-17         2018-01-31   2018-02-04           4092   \n",
       "4     2018-01-23         2018-01-20   2018-02-09           4580   \n",
       "\n",
       "  pickupStartdate  tat_in_days  mem-purchase  pickup-claim  \n",
       "0      2018-02-13            5          -146             5  \n",
       "1      2018-02-08           12            -1             4  \n",
       "2      2018-02-12            9            -5             9  \n",
       "3      2018-02-14            9            14            10  \n",
       "4      2018-02-14            8            -3             5  "
      ]
     },
     "execution_count": 55,
     "metadata": {},
     "output_type": "execute_result"
    }
   ],
   "source": [
    "\n",
    "data.claimtype = data.claimtype.map(claim_map)\n",
    "data.mobmake = data.mobmake.map(mob_map)\n",
    "data.custpincodecategory = data.custpincodecategory.map(pin_map)\n",
    "\n",
    "data.head()"
   ]
  },
  {
   "cell_type": "code",
   "execution_count": 56,
   "metadata": {},
   "outputs": [
    {
     "data": {
      "text/plain": [
       "Index(['srno', 'mobmake', 'hubid', 'hubpincode', 'pickuppartnerid',\n",
       "       'deliverypartnerid', 'insuranceCompanyId', 'custpincodecategory',\n",
       "       'claimtype', 'custpincode', 'memcreateddate', 'mobilepurchasedate',\n",
       "       'claimintdate', 'servicecntrid', 'pickupStartdate', 'tat_in_days',\n",
       "       'mem-purchase', 'pickup-claim'],\n",
       "      dtype='object')"
      ]
     },
     "execution_count": 56,
     "metadata": {},
     "output_type": "execute_result"
    }
   ],
   "source": [
    "data.columns"
   ]
  },
  {
   "cell_type": "code",
   "execution_count": 57,
   "metadata": {},
   "outputs": [],
   "source": [
    "X = data[['mobmake', 'hubid', 'hubpincode', 'insuranceCompanyId', 'custpincodecategory',\n",
    "       'claimtype', 'custpincode','servicecntrid','mem-purchase', 'pickup-claim']]\n",
    "y = data.tat_in_days"
   ]
  },
  {
   "cell_type": "code",
   "execution_count": 58,
   "metadata": {},
   "outputs": [],
   "source": [
    "X_train , X_test , y_train , y_test = train_test_split(X,y,test_size=0.3)"
   ]
  },
  {
   "cell_type": "markdown",
   "metadata": {},
   "source": [
    "### Linear Regression"
   ]
  },
  {
   "cell_type": "code",
   "execution_count": 59,
   "metadata": {},
   "outputs": [
    {
     "name": "stdout",
     "output_type": "stream",
     "text": [
      "Training Score: 0.1756932215296435\n",
      "Testing Score: 0.1786140195545891\n",
      "Root Mean squared Error: 4.7113178191518505\n"
     ]
    }
   ],
   "source": [
    "lr = LinearRegression()\n",
    "lr.fit(X_train,y_train)\n",
    "lr_pred = lr.predict(X_test)\n",
    "mse = metrics.mean_squared_error(y_test,lr_pred)\n",
    "\n",
    "print('Training Score:',lr.score(X_train, y_train))\n",
    "print('Testing Score:',lr.score(X_test, y_test))\n",
    "print('Root Mean squared Error:',np.sqrt(mse))"
   ]
  },
  {
   "cell_type": "markdown",
   "metadata": {},
   "source": [
    "### Random Forrest Regressor"
   ]
  },
  {
   "cell_type": "code",
   "execution_count": 60,
   "metadata": {},
   "outputs": [
    {
     "name": "stdout",
     "output_type": "stream",
     "text": [
      "Training Score: 0.8413565624963819\n",
      "Testing Score: 0.1752297369630379\n",
      "Root Mean squared Error: 4.721013651199795\n"
     ]
    },
    {
     "name": "stderr",
     "output_type": "stream",
     "text": [
      "/home/mayday/.local/lib/python3.6/site-packages/sklearn/ensemble/forest.py:246: FutureWarning: The default value of n_estimators will change from 10 in version 0.20 to 100 in 0.22.\n",
      "  \"10 in version 0.20 to 100 in 0.22.\", FutureWarning)\n"
     ]
    }
   ],
   "source": [
    "rf = RandomForestRegressor()\n",
    "rf.fit(X_train,y_train)\n",
    "rf_pred = rf.predict(X_test)\n",
    "mse = metrics.mean_squared_error(y_test,rf_pred)\n",
    "\n",
    "print('Training Score:',rf.score(X_train, y_train))\n",
    "print('Testing Score:',rf.score(X_test, y_test))\n",
    "print('Root Mean squared Error:',np.sqrt(mse))"
   ]
  },
  {
   "cell_type": "markdown",
   "metadata": {},
   "source": [
    "### KNN Regressor"
   ]
  },
  {
   "cell_type": "code",
   "execution_count": 61,
   "metadata": {},
   "outputs": [
    {
     "name": "stdout",
     "output_type": "stream",
     "text": [
      "Training Score: 0.37751848067630545\n",
      "Testing Score: 0.08683460416236854\n",
      "Root Mean squared Error: 4.967564124732899\n"
     ]
    }
   ],
   "source": [
    "knn = KNeighborsRegressor()\n",
    "knn.fit(X_train,y_train)\n",
    "knn_pred = knn.predict(X_test)\n",
    "mse = metrics.mean_squared_error(y_test,knn_pred)\n",
    "\n",
    "print('Training Score:',knn.score(X_train, y_train))\n",
    "print('Testing Score:',knn.score(X_test, y_test))\n",
    "print('Root Mean squared Error:',np.sqrt(mse))"
   ]
  },
  {
   "cell_type": "markdown",
   "metadata": {},
   "source": [
    "### Ridge Regressor"
   ]
  },
  {
   "cell_type": "code",
   "execution_count": 62,
   "metadata": {},
   "outputs": [
    {
     "name": "stdout",
     "output_type": "stream",
     "text": [
      "Training Score: 0.1752930908154919\n",
      "Testing Score: 0.17864766375645377\n",
      "Root Mean squared Error: 4.711221329709188\n"
     ]
    }
   ],
   "source": [
    "ridge = Ridge()\n",
    "ridge.fit(X_train,y_train)\n",
    "ridge_pred = ridge.predict(X_test)\n",
    "mse = metrics.mean_squared_error(y_test,ridge_pred)\n",
    "\n",
    "print('Training Score:',ridge.score(X_train, y_train))\n",
    "print('Testing Score:',ridge.score(X_test, y_test))\n",
    "print('Root Mean squared Error:',np.sqrt(mse))"
   ]
  },
  {
   "cell_type": "markdown",
   "metadata": {},
   "source": [
    "### SVM Regressor"
   ]
  },
  {
   "cell_type": "code",
   "execution_count": 63,
   "metadata": {},
   "outputs": [
    {
     "name": "stderr",
     "output_type": "stream",
     "text": [
      "/home/mayday/.local/lib/python3.6/site-packages/sklearn/svm/base.py:196: FutureWarning: The default value of gamma will change from 'auto' to 'scale' in version 0.22 to account better for unscaled features. Set gamma explicitly to 'auto' or 'scale' to avoid this warning.\n",
      "  \"avoid this warning.\", FutureWarning)\n"
     ]
    },
    {
     "name": "stdout",
     "output_type": "stream",
     "text": [
      "Training Score: 0.2252224101128374\n",
      "Testing Score: -0.03144048154232504\n",
      "Root Mean squared Error: 5.279476308904672\n"
     ]
    }
   ],
   "source": [
    "svc = svm.SVR()\n",
    "svc.fit(X_train,y_train)\n",
    "svc_pred = svc.predict(X_test)\n",
    "mse = metrics.mean_squared_error(y_test,svc_pred)\n",
    "\n",
    "print('Training Score:',svc.score(X_train, y_train))\n",
    "print('Testing Score:',svc.score(X_test, y_test))\n",
    "print('Root Mean squared Error:',np.sqrt(mse))"
   ]
  },
  {
   "cell_type": "code",
   "execution_count": 64,
   "metadata": {},
   "outputs": [
    {
     "data": {
      "text/html": [
       "<div>\n",
       "<style scoped>\n",
       "    .dataframe tbody tr th:only-of-type {\n",
       "        vertical-align: middle;\n",
       "    }\n",
       "\n",
       "    .dataframe tbody tr th {\n",
       "        vertical-align: top;\n",
       "    }\n",
       "\n",
       "    .dataframe thead th {\n",
       "        text-align: right;\n",
       "    }\n",
       "</style>\n",
       "<table border=\"1\" class=\"dataframe\">\n",
       "  <thead>\n",
       "    <tr style=\"text-align: right;\">\n",
       "      <th></th>\n",
       "      <th>Model</th>\n",
       "      <th>Training Score</th>\n",
       "      <th>Test Score</th>\n",
       "    </tr>\n",
       "  </thead>\n",
       "  <tbody>\n",
       "    <tr>\n",
       "      <th>3</th>\n",
       "      <td>Ridge Regressor</td>\n",
       "      <td>0.175293</td>\n",
       "      <td>0.178648</td>\n",
       "    </tr>\n",
       "    <tr>\n",
       "      <th>0</th>\n",
       "      <td>Linear Regressor</td>\n",
       "      <td>0.175693</td>\n",
       "      <td>0.178614</td>\n",
       "    </tr>\n",
       "    <tr>\n",
       "      <th>1</th>\n",
       "      <td>Random Forest Regressor</td>\n",
       "      <td>0.841357</td>\n",
       "      <td>0.175230</td>\n",
       "    </tr>\n",
       "    <tr>\n",
       "      <th>2</th>\n",
       "      <td>KNN Regressor</td>\n",
       "      <td>0.377518</td>\n",
       "      <td>0.086835</td>\n",
       "    </tr>\n",
       "    <tr>\n",
       "      <th>4</th>\n",
       "      <td>SVM Regressor</td>\n",
       "      <td>0.225222</td>\n",
       "      <td>-0.031440</td>\n",
       "    </tr>\n",
       "  </tbody>\n",
       "</table>\n",
       "</div>"
      ],
      "text/plain": [
       "                     Model  Training Score  Test Score\n",
       "3          Ridge Regressor        0.175293    0.178648\n",
       "0         Linear Regressor        0.175693    0.178614\n",
       "1  Random Forest Regressor        0.841357    0.175230\n",
       "2            KNN Regressor        0.377518    0.086835\n",
       "4            SVM Regressor        0.225222   -0.031440"
      ]
     },
     "execution_count": 64,
     "metadata": {},
     "output_type": "execute_result"
    }
   ],
   "source": [
    "models = pd.DataFrame({\n",
    "    'Model': ['Linear Regressor','Random Forest Regressor','KNN Regressor','Ridge Regressor','SVM Regressor'],\n",
    "    'Training Score': [ lr.score(X_train, y_train),rf.score(X_train, y_train), knn.score(X_train, y_train), ridge.score(X_train, y_train),svc.score(X_train, y_train)],\n",
    "    'Test Score': [ lr.score(X_test, y_test),rf.score(X_test, y_test), knn.score(X_test, y_test), ridge.score(X_test, y_test),svc.score(X_test, y_test),]\n",
    "    })\n",
    "models.sort_values(by='Test Score', ascending=False)"
   ]
  },
  {
   "cell_type": "markdown",
   "metadata": {},
   "source": [
    "#### Random Forrest is giving maximum Test Score, so using GridSearch to find best hyper-parameters for the same"
   ]
  },
  {
   "cell_type": "code",
   "execution_count": 65,
   "metadata": {},
   "outputs": [
    {
     "name": "stdout",
     "output_type": "stream",
     "text": [
      "Best accuracy of the model for the training set is: -19.221058106378536\n",
      "Best parameters of the model for the training set is: {'max_depth': 9, 'max_features': 3, 'n_estimators': 25, 'random_state': 12}\n"
     ]
    }
   ],
   "source": [
    "parameters = [{'max_depth' : [5, 7, 9, 11, 12],\n",
    "               'max_features' : [2, 3, 4, 5],\n",
    "               'n_estimators' : [10, 15, 20, 17, 22, 25],\n",
    "               'random_state' : [7, 8, 10, 12]}]\n",
    "\n",
    "from sklearn.model_selection import GridSearchCV\n",
    "grid_search = GridSearchCV(estimator = rf,param_grid = parameters,\n",
    "                           scoring = 'neg_mean_squared_error',n_jobs = -1, cv = 10)\n",
    "\n",
    "grid_search.fit(X_train, y_train)\n",
    "\n",
    "best_accuracy = grid_search.best_score_\n",
    "print(\"Best accuracy of the model for the training set is:\", best_accuracy)\n",
    "\n",
    "best_params = grid_search.best_params_\n",
    "print(\"Best parameters of the model for the training set is:\", best_params)"
   ]
  },
  {
   "cell_type": "markdown",
   "metadata": {},
   "source": [
    "### Using GridCV Parameters"
   ]
  },
  {
   "cell_type": "code",
   "execution_count": 66,
   "metadata": {},
   "outputs": [
    {
     "data": {
      "text/plain": [
       "RandomForestRegressor(bootstrap=True, criterion='mse', max_depth=11,\n",
       "           max_features=3, max_leaf_nodes=None, min_impurity_decrease=0.0,\n",
       "           min_impurity_split=None, min_samples_leaf=1,\n",
       "           min_samples_split=2, min_weight_fraction_leaf=0.0,\n",
       "           n_estimators=25, n_jobs=None, oob_score=False, random_state=7,\n",
       "           verbose=0, warm_start=False)"
      ]
     },
     "execution_count": 66,
     "metadata": {},
     "output_type": "execute_result"
    }
   ],
   "source": [
    "regressor = RandomForestRegressor(max_depth = 11, max_features = 3,\n",
    "                                  n_estimators = 25, random_state = 7)\n",
    "regressor.fit(X_train, y_train)"
   ]
  },
  {
   "cell_type": "markdown",
   "metadata": {},
   "source": [
    "### Applying k-fold cross validation again to check mean accuracies in dataset\n"
   ]
  },
  {
   "cell_type": "code",
   "execution_count": 67,
   "metadata": {},
   "outputs": [
    {
     "name": "stdout",
     "output_type": "stream",
     "text": [
      "Showing all 10 of K-Fold Cross Validation accuracies:\n",
      " [0.26864368 0.2433265  0.18080777 0.16960346 0.20801577 0.21701593\n",
      " 0.20276045 0.28876539 0.29722248 0.19926379]\n",
      "\n",
      "Mean of accuracies:\n",
      " 0.22754252226635066\n",
      "\n",
      "Standard Deviation:\n",
      " 0.04241342669522615\n"
     ]
    }
   ],
   "source": [
    "\n",
    "from sklearn.model_selection import cross_val_score\n",
    "\n",
    "accuracies = cross_val_score(estimator = regressor, X = X_train, \n",
    "                             y = y_train, cv = 10, n_jobs = -1)\n",
    "\n",
    "print(\"Showing all 10 of K-Fold Cross Validation accuracies:\\n\", accuracies)\n",
    "accuracies_mean = accuracies.mean()\n",
    "print(\"\\nMean of accuracies:\\n\", accuracies_mean)\n",
    "accuracies_std = accuracies.std()\n",
    "print(\"\\nStandard Deviation:\\n\", accuracies_std)"
   ]
  },
  {
   "cell_type": "markdown",
   "metadata": {},
   "source": [
    "## Now training our classifier on full training set"
   ]
  },
  {
   "cell_type": "code",
   "execution_count": 68,
   "metadata": {},
   "outputs": [
    {
     "data": {
      "text/plain": [
       "RandomForestRegressor(bootstrap=True, criterion='mse', max_depth=11,\n",
       "           max_features=3, max_leaf_nodes=None, min_impurity_decrease=0.0,\n",
       "           min_impurity_split=None, min_samples_leaf=1,\n",
       "           min_samples_split=2, min_weight_fraction_leaf=0.0,\n",
       "           n_estimators=25, n_jobs=None, oob_score=False, random_state=7,\n",
       "           verbose=0, warm_start=False)"
      ]
     },
     "execution_count": 68,
     "metadata": {},
     "output_type": "execute_result"
    }
   ],
   "source": [
    "regressor.fit(X,y)"
   ]
  },
  {
   "cell_type": "markdown",
   "metadata": {},
   "source": [
    "### According to above findings we use the following classifier for our predictions"
   ]
  },
  {
   "cell_type": "code",
   "execution_count": 69,
   "metadata": {},
   "outputs": [],
   "source": [
    "test = pd.read_csv('problem_2_test.csv',parse_dates=['memcreateddate', 'mobilepurchasedate',\n",
    "       'claimintdate','pickupStartdate'])\n",
    "test.head()\n",
    "\n",
    "test['mem-purchase'] = (test.mobilepurchasedate - test.memcreateddate).dt.days\n",
    "test['pickup-claim'] = (test.pickupStartdate - test.claimintdate).dt.days"
   ]
  },
  {
   "cell_type": "code",
   "execution_count": 70,
   "metadata": {},
   "outputs": [
    {
     "data": {
      "text/html": [
       "<div>\n",
       "<style scoped>\n",
       "    .dataframe tbody tr th:only-of-type {\n",
       "        vertical-align: middle;\n",
       "    }\n",
       "\n",
       "    .dataframe tbody tr th {\n",
       "        vertical-align: top;\n",
       "    }\n",
       "\n",
       "    .dataframe thead th {\n",
       "        text-align: right;\n",
       "    }\n",
       "</style>\n",
       "<table border=\"1\" class=\"dataframe\">\n",
       "  <thead>\n",
       "    <tr style=\"text-align: right;\">\n",
       "      <th></th>\n",
       "      <th>srno</th>\n",
       "      <th>mobmake</th>\n",
       "      <th>hubid</th>\n",
       "      <th>hubpincode</th>\n",
       "      <th>pickuppartnerid</th>\n",
       "      <th>deliverypartnerid</th>\n",
       "      <th>insuranceCompanyId</th>\n",
       "      <th>custpincodecategory</th>\n",
       "      <th>claimtype</th>\n",
       "      <th>custpincode</th>\n",
       "      <th>memcreateddate</th>\n",
       "      <th>mobilepurchasedate</th>\n",
       "      <th>claimintdate</th>\n",
       "      <th>servicecntrid</th>\n",
       "      <th>pickupStartdate</th>\n",
       "      <th>mem-purchase</th>\n",
       "      <th>pickup-claim</th>\n",
       "    </tr>\n",
       "  </thead>\n",
       "  <tbody>\n",
       "    <tr>\n",
       "      <th>0</th>\n",
       "      <td>2829088</td>\n",
       "      <td>0.0</td>\n",
       "      <td>3</td>\n",
       "      <td>560011</td>\n",
       "      <td>233</td>\n",
       "      <td>233</td>\n",
       "      <td>131</td>\n",
       "      <td>0</td>\n",
       "      <td>0</td>\n",
       "      <td>560093</td>\n",
       "      <td>2017-07-30</td>\n",
       "      <td>2017-07-27</td>\n",
       "      <td>2018-02-01</td>\n",
       "      <td>4467</td>\n",
       "      <td>2018-02-06</td>\n",
       "      <td>-3</td>\n",
       "      <td>5</td>\n",
       "    </tr>\n",
       "    <tr>\n",
       "      <th>1</th>\n",
       "      <td>2829866</td>\n",
       "      <td>1.0</td>\n",
       "      <td>2</td>\n",
       "      <td>110018</td>\n",
       "      <td>233</td>\n",
       "      <td>233</td>\n",
       "      <td>228</td>\n",
       "      <td>0</td>\n",
       "      <td>0</td>\n",
       "      <td>110034</td>\n",
       "      <td>2017-07-17</td>\n",
       "      <td>2017-01-25</td>\n",
       "      <td>2018-02-01</td>\n",
       "      <td>4388</td>\n",
       "      <td>2018-02-08</td>\n",
       "      <td>-173</td>\n",
       "      <td>7</td>\n",
       "    </tr>\n",
       "    <tr>\n",
       "      <th>2</th>\n",
       "      <td>2894489</td>\n",
       "      <td>1.0</td>\n",
       "      <td>3</td>\n",
       "      <td>560011</td>\n",
       "      <td>233</td>\n",
       "      <td>233</td>\n",
       "      <td>228</td>\n",
       "      <td>2</td>\n",
       "      <td>0</td>\n",
       "      <td>590014</td>\n",
       "      <td>2018-01-12</td>\n",
       "      <td>2018-01-11</td>\n",
       "      <td>2018-02-21</td>\n",
       "      <td>4460</td>\n",
       "      <td>2018-02-28</td>\n",
       "      <td>-1</td>\n",
       "      <td>7</td>\n",
       "    </tr>\n",
       "    <tr>\n",
       "      <th>3</th>\n",
       "      <td>2876708</td>\n",
       "      <td>1.0</td>\n",
       "      <td>2</td>\n",
       "      <td>110018</td>\n",
       "      <td>233</td>\n",
       "      <td>233</td>\n",
       "      <td>228</td>\n",
       "      <td>1</td>\n",
       "      <td>0</td>\n",
       "      <td>250110</td>\n",
       "      <td>2017-08-07</td>\n",
       "      <td>2017-05-21</td>\n",
       "      <td>2018-02-16</td>\n",
       "      <td>4388</td>\n",
       "      <td>2018-02-26</td>\n",
       "      <td>-78</td>\n",
       "      <td>10</td>\n",
       "    </tr>\n",
       "    <tr>\n",
       "      <th>4</th>\n",
       "      <td>2890283</td>\n",
       "      <td>0.0</td>\n",
       "      <td>22</td>\n",
       "      <td>400104</td>\n",
       "      <td>233</td>\n",
       "      <td>233</td>\n",
       "      <td>131</td>\n",
       "      <td>2</td>\n",
       "      <td>0</td>\n",
       "      <td>496001</td>\n",
       "      <td>2017-11-10</td>\n",
       "      <td>2017-09-22</td>\n",
       "      <td>2018-02-20</td>\n",
       "      <td>4581</td>\n",
       "      <td>2018-02-23</td>\n",
       "      <td>-49</td>\n",
       "      <td>3</td>\n",
       "    </tr>\n",
       "  </tbody>\n",
       "</table>\n",
       "</div>"
      ],
      "text/plain": [
       "      srno  mobmake  hubid  hubpincode  pickuppartnerid  deliverypartnerid  \\\n",
       "0  2829088      0.0      3      560011              233                233   \n",
       "1  2829866      1.0      2      110018              233                233   \n",
       "2  2894489      1.0      3      560011              233                233   \n",
       "3  2876708      1.0      2      110018              233                233   \n",
       "4  2890283      0.0     22      400104              233                233   \n",
       "\n",
       "   insuranceCompanyId  custpincodecategory  claimtype  custpincode  \\\n",
       "0                 131                    0          0       560093   \n",
       "1                 228                    0          0       110034   \n",
       "2                 228                    2          0       590014   \n",
       "3                 228                    1          0       250110   \n",
       "4                 131                    2          0       496001   \n",
       "\n",
       "  memcreateddate mobilepurchasedate claimintdate  servicecntrid  \\\n",
       "0     2017-07-30         2017-07-27   2018-02-01           4467   \n",
       "1     2017-07-17         2017-01-25   2018-02-01           4388   \n",
       "2     2018-01-12         2018-01-11   2018-02-21           4460   \n",
       "3     2017-08-07         2017-05-21   2018-02-16           4388   \n",
       "4     2017-11-10         2017-09-22   2018-02-20           4581   \n",
       "\n",
       "  pickupStartdate  mem-purchase  pickup-claim  \n",
       "0      2018-02-06            -3             5  \n",
       "1      2018-02-08          -173             7  \n",
       "2      2018-02-28            -1             7  \n",
       "3      2018-02-26           -78            10  \n",
       "4      2018-02-23           -49             3  "
      ]
     },
     "execution_count": 70,
     "metadata": {},
     "output_type": "execute_result"
    }
   ],
   "source": [
    "test.claimtype = test.claimtype.map(claim_map)\n",
    "test.mobmake = test.mobmake.map(mob_map)\n",
    "test.custpincodecategory = test.custpincodecategory.map(pin_map)\n",
    "test.head()"
   ]
  },
  {
   "cell_type": "markdown",
   "metadata": {},
   "source": [
    "### Checking for null values in test data\n",
    "\n"
   ]
  },
  {
   "cell_type": "code",
   "execution_count": 71,
   "metadata": {},
   "outputs": [
    {
     "name": "stdout",
     "output_type": "stream",
     "text": [
      "srno                   0\n",
      "mobmake                4\n",
      "hubid                  0\n",
      "hubpincode             0\n",
      "pickuppartnerid        0\n",
      "deliverypartnerid      0\n",
      "insuranceCompanyId     0\n",
      "custpincodecategory    0\n",
      "claimtype              0\n",
      "custpincode            0\n",
      "memcreateddate         0\n",
      "mobilepurchasedate     0\n",
      "claimintdate           0\n",
      "servicecntrid          0\n",
      "pickupStartdate        0\n",
      "mem-purchase           0\n",
      "pickup-claim           0\n",
      "dtype: int64\n"
     ]
    }
   ],
   "source": [
    "print(test.isna().sum())"
   ]
  },
  {
   "cell_type": "markdown",
   "metadata": {},
   "source": [
    "### Filling null values with median value of column\n",
    "\n"
   ]
  },
  {
   "cell_type": "code",
   "execution_count": 72,
   "metadata": {},
   "outputs": [],
   "source": [
    "test.fillna(test.mean(),inplace=True)"
   ]
  },
  {
   "cell_type": "markdown",
   "metadata": {},
   "source": [
    "### Creating a new file for saving the predicted labels for test data\n",
    "\n"
   ]
  },
  {
   "cell_type": "code",
   "execution_count": 73,
   "metadata": {},
   "outputs": [],
   "source": [
    "test = test[X.columns]"
   ]
  },
  {
   "cell_type": "code",
   "execution_count": 74,
   "metadata": {},
   "outputs": [],
   "source": [
    "answers = pd.DataFrame(regressor.predict(test))\n",
    "answers.to_csv('test_data_answers.csv', index=False,header=['Dataset'])"
   ]
  },
  {
   "cell_type": "markdown",
   "metadata": {},
   "source": [
    "### Appending to test data and saving file\n"
   ]
  },
  {
   "cell_type": "code",
   "execution_count": 75,
   "metadata": {},
   "outputs": [],
   "source": [
    "test['Dataset'] = answers\n",
    "test.head()\n",
    "test.to_csv('test_data with answers.csv')"
   ]
  }
 ],
 "metadata": {
  "kernelspec": {
   "display_name": "Python 3",
   "language": "python",
   "name": "python3"
  },
  "language_info": {
   "codemirror_mode": {
    "name": "ipython",
    "version": 3
   },
   "file_extension": ".py",
   "mimetype": "text/x-python",
   "name": "python",
   "nbconvert_exporter": "python",
   "pygments_lexer": "ipython3",
   "version": "3.6.7"
  }
 },
 "nbformat": 4,
 "nbformat_minor": 2
}
